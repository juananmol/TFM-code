{
 "cells": [
  {
   "cell_type": "markdown",
   "id": "b4f8227b",
   "metadata": {},
   "source": [
    "# TFM in R: Errors with propagate\n",
    "\n",
    "1. Data A: BPT, Metallicities and SFRs\n",
    "2. Errors BPT Diagram\n",
    "3. Errors SF Galaxies of the BPT Diagram\n",
    "4. Errors Metallicities\n",
    "5. Errors SFRs\n",
    "6. Data B: Fils, Tendrils and Voids\n",
    "7. Errors Metallicities: Fils, Tendrils and Voids\n",
    " "
   ]
  },
  {
   "cell_type": "markdown",
   "id": "6d68ace6-2e20-4575-a66b-f5edafb54036",
   "metadata": {},
   "source": [
    "**Aviso:** Hemos puesto una barra de error para ver cuanto tarda el propagate. No osbtante, no es muy útil utilizarle porque hace que los bucles tarden mucho más al tener que imprimir el progreso. Por tanto, es recomendable borrarla una vez se quiera correr el bucle de forma definitiva. "
   ]
  },
  {
   "cell_type": "code",
   "execution_count": 1,
   "id": "dad8feff-af0a-4700-8fa8-f484c62c8241",
   "metadata": {},
   "outputs": [],
   "source": [
    "# Progress bar\n",
    "progress_bar <- function(iteration, total, length = 50) {\n",
    "  percent <- round((iteration / total) * 100, 1)\n",
    "  progress <- round((iteration / total) * length)\n",
    "  bar <- paste0(rep(\"=\", progress), rep(\" \", length - progress))\n",
    "  cat(\"\\r[\", bar, \"] \", percent, \"%\", sep = \"\")\n",
    "  flush.console()\n",
    "}"
   ]
  },
  {
   "cell_type": "markdown",
   "id": "93b60f96",
   "metadata": {},
   "source": [
    "## 1. Data  A: BPT, Metallicities and SFRs"
   ]
  },
  {
   "cell_type": "code",
   "execution_count": 3,
   "id": "b4cadddb",
   "metadata": {
    "editable": true,
    "slideshow": {
     "slide_type": ""
    },
    "tags": []
   },
   "outputs": [],
   "source": [
    "# Packages\n",
    "library('propagate') #paquete principal para propagar errores\n",
    "library('MASS')\n",
    "library('tmvtnorm')\n",
    "library('mvtnorm')\n",
    "library('Matrix')\n",
    "library('stats4')\n",
    "library('gmm')\n",
    "library('sandwich')\n",
    "library('Rcpp')\n",
    "library('ff')\n",
    "library('bit')\n",
    "library('repr') #reajustar tamaño plots\n",
    "library('minpack.lm')\n",
    "library('ff')\n",
    "\n",
    "# Options \n",
    "options(repr.plot.width=14, repr.plot.height=12)\n",
    "options(mc.cores = parallel::detectCores())\n",
    "\n",
    "#GALAXIAS DIAGRAMA BPT\n",
    "data_BPT=read.table(\"./DataFrames_and_Tables/data_frame_BPT.txt\") #datos\n",
    "names(data_BPT)=c(\"Ha\",\"Ha_Error\",\"Hb\",\"Hb_Error\",\"NII\",\"NII_Error\",\"OIII\",\"OIII_Error\") #nombres datos bpt diagram\n",
    "\n",
    "Ha=data_BPT$Ha #Ha\n",
    "Ha_Error=data_BPT$Ha_Error #error Ha\n",
    "\n",
    "Hb=data_BPT$Hb #Hb\n",
    "Hb_Error=data_BPT$Hb_Error #error Hb\n",
    "\n",
    "NII=data_BPT$NII #NII\n",
    "NII_Error=data_BPT$NII_Error #error NII\n",
    "\n",
    "OIII=data_BPT$OIII #OIII\n",
    "OIII_Error=data_BPT$OIII_Error #error OIII\n",
    "\n",
    "#GALAXIAS SF\n",
    "data_SF=read.table(\"./DataFrames_and_Tables/data_frame_SF.txt\") #datos\n",
    "names(data_SF)=c(\"Ha\",\"Ha_Error\",\"Hb\",\"Hb_Error\",\"NII\",\"NII_Error\",\"OIII\",\"OIII_Error\",\"EW_Ha\",\"M_r_petro\",\"z\") #nombres datos bpt diagram\n",
    "\n",
    "Ha_SF=data_SF$Ha #Ha_SF\n",
    "Ha_SF_Error=data_SF$Ha_Error #error Ha_SF\n",
    "\n",
    "Hb_SF=data_SF$Hb #Hb_SF\n",
    "Hb_SF_Error=data_SF$Hb_Error #error Hb_SF\n",
    "\n",
    "NII_SF=data_SF$NII #NII_SF\n",
    "NII_SF_Error=data_SF$NII_Error #error NII_SF\n",
    "\n",
    "OIII_SF=data_SF$OIII #OIII_SF\n",
    "OIII_SF_Error=data_SF$OIII_Error #error OIII_SF\n",
    "\n",
    "EW_Ha_SF=data_SF$EW_Ha #EW_SF\n",
    "\n",
    "M_r_petro_SF=data_SF$M_r_petro #magnitud_r_petrosian_SF\n",
    "z_SF=data_SF$z #rdshift_SF\n",
    "\n",
    "#GALAXIAS SF (con flujos observados, es decir, no corregidos -> necesarios para la ecuación para calcular SFR_{Hopkins}\n",
    "data_SF2=read.table(\"./DataFrames_and_Tables/data_frame_SF_v2.txt\", header = TRUE, sep = \"\\t\") #datos"
   ]
  },
  {
   "cell_type": "code",
   "execution_count": 4,
   "id": "5fd2e9e3",
   "metadata": {},
   "outputs": [
    {
     "data": {
      "text/html": [
       "<table class=\"dataframe\">\n",
       "<caption>A data.frame: 5 × 8</caption>\n",
       "<thead>\n",
       "\t<tr><th></th><th scope=col>Ha</th><th scope=col>Ha_Error</th><th scope=col>Hb</th><th scope=col>Hb_Error</th><th scope=col>NII</th><th scope=col>NII_Error</th><th scope=col>OIII</th><th scope=col>OIII_Error</th></tr>\n",
       "\t<tr><th></th><th scope=col>&lt;dbl&gt;</th><th scope=col>&lt;dbl&gt;</th><th scope=col>&lt;dbl&gt;</th><th scope=col>&lt;dbl&gt;</th><th scope=col>&lt;dbl&gt;</th><th scope=col>&lt;dbl&gt;</th><th scope=col>&lt;dbl&gt;</th><th scope=col>&lt;dbl&gt;</th></tr>\n",
       "</thead>\n",
       "<tbody>\n",
       "\t<tr><th scope=row>1</th><td>294.40710</td><td>  14.24592</td><td>137.71290</td><td>  12.95788</td><td>157.14337</td><td> 12.90902</td><td>187.36380</td><td>  12.56536</td></tr>\n",
       "\t<tr><th scope=row>2</th><td> 97.34119</td><td>2649.81300</td><td> 34.35812</td><td>1309.14400</td><td> 32.47367</td><td>851.63920</td><td> 42.95794</td><td>1768.81700</td></tr>\n",
       "\t<tr><th scope=row>3</th><td>271.74870</td><td>1993.67400</td><td> 94.88628</td><td> 779.89140</td><td>101.08922</td><td>770.83690</td><td>133.01280</td><td>1183.50900</td></tr>\n",
       "\t<tr><th scope=row>4</th><td>447.37000</td><td>  19.63235</td><td>156.34140</td><td>  18.93398</td><td>198.30247</td><td> 26.25043</td><td>248.17410</td><td>  20.87182</td></tr>\n",
       "\t<tr><th scope=row>5</th><td> 65.02176</td><td> 970.03250</td><td> 22.78687</td><td> 613.29320</td><td> 36.56406</td><td>525.43580</td><td> 40.65727</td><td> 888.19070</td></tr>\n",
       "</tbody>\n",
       "</table>\n"
      ],
      "text/latex": [
       "A data.frame: 5 × 8\n",
       "\\begin{tabular}{r|llllllll}\n",
       "  & Ha & Ha\\_Error & Hb & Hb\\_Error & NII & NII\\_Error & OIII & OIII\\_Error\\\\\n",
       "  & <dbl> & <dbl> & <dbl> & <dbl> & <dbl> & <dbl> & <dbl> & <dbl>\\\\\n",
       "\\hline\n",
       "\t1 & 294.40710 &   14.24592 & 137.71290 &   12.95788 & 157.14337 &  12.90902 & 187.36380 &   12.56536\\\\\n",
       "\t2 &  97.34119 & 2649.81300 &  34.35812 & 1309.14400 &  32.47367 & 851.63920 &  42.95794 & 1768.81700\\\\\n",
       "\t3 & 271.74870 & 1993.67400 &  94.88628 &  779.89140 & 101.08922 & 770.83690 & 133.01280 & 1183.50900\\\\\n",
       "\t4 & 447.37000 &   19.63235 & 156.34140 &   18.93398 & 198.30247 &  26.25043 & 248.17410 &   20.87182\\\\\n",
       "\t5 &  65.02176 &  970.03250 &  22.78687 &  613.29320 &  36.56406 & 525.43580 &  40.65727 &  888.19070\\\\\n",
       "\\end{tabular}\n"
      ],
      "text/markdown": [
       "\n",
       "A data.frame: 5 × 8\n",
       "\n",
       "| <!--/--> | Ha &lt;dbl&gt; | Ha_Error &lt;dbl&gt; | Hb &lt;dbl&gt; | Hb_Error &lt;dbl&gt; | NII &lt;dbl&gt; | NII_Error &lt;dbl&gt; | OIII &lt;dbl&gt; | OIII_Error &lt;dbl&gt; |\n",
       "|---|---|---|---|---|---|---|---|---|\n",
       "| 1 | 294.40710 |   14.24592 | 137.71290 |   12.95788 | 157.14337 |  12.90902 | 187.36380 |   12.56536 |\n",
       "| 2 |  97.34119 | 2649.81300 |  34.35812 | 1309.14400 |  32.47367 | 851.63920 |  42.95794 | 1768.81700 |\n",
       "| 3 | 271.74870 | 1993.67400 |  94.88628 |  779.89140 | 101.08922 | 770.83690 | 133.01280 | 1183.50900 |\n",
       "| 4 | 447.37000 |   19.63235 | 156.34140 |   18.93398 | 198.30247 |  26.25043 | 248.17410 |   20.87182 |\n",
       "| 5 |  65.02176 |  970.03250 |  22.78687 |  613.29320 |  36.56406 | 525.43580 |  40.65727 |  888.19070 |\n",
       "\n"
      ],
      "text/plain": [
       "  Ha        Ha_Error   Hb        Hb_Error   NII       NII_Error OIII     \n",
       "1 294.40710   14.24592 137.71290   12.95788 157.14337  12.90902 187.36380\n",
       "2  97.34119 2649.81300  34.35812 1309.14400  32.47367 851.63920  42.95794\n",
       "3 271.74870 1993.67400  94.88628  779.89140 101.08922 770.83690 133.01280\n",
       "4 447.37000   19.63235 156.34140   18.93398 198.30247  26.25043 248.17410\n",
       "5  65.02176  970.03250  22.78687  613.29320  36.56406 525.43580  40.65727\n",
       "  OIII_Error\n",
       "1   12.56536\n",
       "2 1768.81700\n",
       "3 1183.50900\n",
       "4   20.87182\n",
       "5  888.19070"
      ]
     },
     "metadata": {},
     "output_type": "display_data"
    },
    {
     "data": {
      "text/html": [
       "17368"
      ],
      "text/latex": [
       "17368"
      ],
      "text/markdown": [
       "17368"
      ],
      "text/plain": [
       "[1] 17368"
      ]
     },
     "metadata": {},
     "output_type": "display_data"
    },
    {
     "data": {
      "text/html": [
       "<table class=\"dataframe\">\n",
       "<caption>A data.frame: 5 × 11</caption>\n",
       "<thead>\n",
       "\t<tr><th></th><th scope=col>Ha</th><th scope=col>Ha_Error</th><th scope=col>Hb</th><th scope=col>Hb_Error</th><th scope=col>NII</th><th scope=col>NII_Error</th><th scope=col>OIII</th><th scope=col>OIII_Error</th><th scope=col>EW_Ha</th><th scope=col>M_r_petro</th><th scope=col>z</th></tr>\n",
       "\t<tr><th></th><th scope=col>&lt;dbl&gt;</th><th scope=col>&lt;dbl&gt;</th><th scope=col>&lt;dbl&gt;</th><th scope=col>&lt;dbl&gt;</th><th scope=col>&lt;dbl&gt;</th><th scope=col>&lt;dbl&gt;</th><th scope=col>&lt;dbl&gt;</th><th scope=col>&lt;dbl&gt;</th><th scope=col>&lt;dbl&gt;</th><th scope=col>&lt;dbl&gt;</th><th scope=col>&lt;dbl&gt;</th></tr>\n",
       "</thead>\n",
       "<tbody>\n",
       "\t<tr><th scope=row>1</th><td>  97.34119</td><td>2649.81300</td><td> 34.35812</td><td>1309.14400</td><td> 32.47367</td><td>851.639200</td><td> 42.95794</td><td>1768.817000</td><td>9.057851e+13</td><td>-18.48071</td><td>0.090524</td></tr>\n",
       "\t<tr><th scope=row>2</th><td>1135.77940</td><td>  52.31658</td><td>396.66700</td><td>  39.01183</td><td>122.26810</td><td> 29.229830</td><td>376.23910</td><td>  49.670660</td><td>2.593569e+01</td><td>-20.72695</td><td>0.105420</td></tr>\n",
       "\t<tr><th scope=row>3</th><td> 368.76693</td><td>  13.63515</td><td>128.89610</td><td>  15.18527</td><td> 56.46208</td><td> 23.833970</td><td>345.04029</td><td>  15.796330</td><td>9.276756e+01</td><td>-20.56854</td><td>0.193308</td></tr>\n",
       "\t<tr><th scope=row>4</th><td> 160.16152</td><td>  12.87582</td><td> 55.96878</td><td>  10.15529</td><td> 24.27284</td><td>  6.764302</td><td> 86.30330</td><td>   8.765275</td><td>3.487243e+01</td><td>-20.55494</td><td>0.208377</td></tr>\n",
       "\t<tr><th scope=row>5</th><td> 519.95175</td><td>  11.60386</td><td>181.48080</td><td>  14.45722</td><td> 95.25224</td><td>  9.480859</td><td>257.99459</td><td>  13.578530</td><td>3.081700e+01</td><td>-20.64930</td><td>0.178436</td></tr>\n",
       "</tbody>\n",
       "</table>\n"
      ],
      "text/latex": [
       "A data.frame: 5 × 11\n",
       "\\begin{tabular}{r|lllllllllll}\n",
       "  & Ha & Ha\\_Error & Hb & Hb\\_Error & NII & NII\\_Error & OIII & OIII\\_Error & EW\\_Ha & M\\_r\\_petro & z\\\\\n",
       "  & <dbl> & <dbl> & <dbl> & <dbl> & <dbl> & <dbl> & <dbl> & <dbl> & <dbl> & <dbl> & <dbl>\\\\\n",
       "\\hline\n",
       "\t1 &   97.34119 & 2649.81300 &  34.35812 & 1309.14400 &  32.47367 & 851.639200 &  42.95794 & 1768.817000 & 9.057851e+13 & -18.48071 & 0.090524\\\\\n",
       "\t2 & 1135.77940 &   52.31658 & 396.66700 &   39.01183 & 122.26810 &  29.229830 & 376.23910 &   49.670660 & 2.593569e+01 & -20.72695 & 0.105420\\\\\n",
       "\t3 &  368.76693 &   13.63515 & 128.89610 &   15.18527 &  56.46208 &  23.833970 & 345.04029 &   15.796330 & 9.276756e+01 & -20.56854 & 0.193308\\\\\n",
       "\t4 &  160.16152 &   12.87582 &  55.96878 &   10.15529 &  24.27284 &   6.764302 &  86.30330 &    8.765275 & 3.487243e+01 & -20.55494 & 0.208377\\\\\n",
       "\t5 &  519.95175 &   11.60386 & 181.48080 &   14.45722 &  95.25224 &   9.480859 & 257.99459 &   13.578530 & 3.081700e+01 & -20.64930 & 0.178436\\\\\n",
       "\\end{tabular}\n"
      ],
      "text/markdown": [
       "\n",
       "A data.frame: 5 × 11\n",
       "\n",
       "| <!--/--> | Ha &lt;dbl&gt; | Ha_Error &lt;dbl&gt; | Hb &lt;dbl&gt; | Hb_Error &lt;dbl&gt; | NII &lt;dbl&gt; | NII_Error &lt;dbl&gt; | OIII &lt;dbl&gt; | OIII_Error &lt;dbl&gt; | EW_Ha &lt;dbl&gt; | M_r_petro &lt;dbl&gt; | z &lt;dbl&gt; |\n",
       "|---|---|---|---|---|---|---|---|---|---|---|---|\n",
       "| 1 |   97.34119 | 2649.81300 |  34.35812 | 1309.14400 |  32.47367 | 851.639200 |  42.95794 | 1768.817000 | 9.057851e+13 | -18.48071 | 0.090524 |\n",
       "| 2 | 1135.77940 |   52.31658 | 396.66700 |   39.01183 | 122.26810 |  29.229830 | 376.23910 |   49.670660 | 2.593569e+01 | -20.72695 | 0.105420 |\n",
       "| 3 |  368.76693 |   13.63515 | 128.89610 |   15.18527 |  56.46208 |  23.833970 | 345.04029 |   15.796330 | 9.276756e+01 | -20.56854 | 0.193308 |\n",
       "| 4 |  160.16152 |   12.87582 |  55.96878 |   10.15529 |  24.27284 |   6.764302 |  86.30330 |    8.765275 | 3.487243e+01 | -20.55494 | 0.208377 |\n",
       "| 5 |  519.95175 |   11.60386 | 181.48080 |   14.45722 |  95.25224 |   9.480859 | 257.99459 |   13.578530 | 3.081700e+01 | -20.64930 | 0.178436 |\n",
       "\n"
      ],
      "text/plain": [
       "  Ha         Ha_Error   Hb        Hb_Error   NII       NII_Error  OIII     \n",
       "1   97.34119 2649.81300  34.35812 1309.14400  32.47367 851.639200  42.95794\n",
       "2 1135.77940   52.31658 396.66700   39.01183 122.26810  29.229830 376.23910\n",
       "3  368.76693   13.63515 128.89610   15.18527  56.46208  23.833970 345.04029\n",
       "4  160.16152   12.87582  55.96878   10.15529  24.27284   6.764302  86.30330\n",
       "5  519.95175   11.60386 181.48080   14.45722  95.25224   9.480859 257.99459\n",
       "  OIII_Error  EW_Ha        M_r_petro z       \n",
       "1 1768.817000 9.057851e+13 -18.48071 0.090524\n",
       "2   49.670660 2.593569e+01 -20.72695 0.105420\n",
       "3   15.796330 9.276756e+01 -20.56854 0.193308\n",
       "4    8.765275 3.487243e+01 -20.55494 0.208377\n",
       "5   13.578530 3.081700e+01 -20.64930 0.178436"
      ]
     },
     "metadata": {},
     "output_type": "display_data"
    },
    {
     "data": {
      "text/html": [
       "13689"
      ],
      "text/latex": [
       "13689"
      ],
      "text/markdown": [
       "13689"
      ],
      "text/plain": [
       "[1] 13689"
      ]
     },
     "metadata": {},
     "output_type": "display_data"
    },
    {
     "data": {
      "text/html": [
       "<table class=\"dataframe\">\n",
       "<caption>A data.frame: 5 × 9</caption>\n",
       "<thead>\n",
       "\t<tr><th></th><th scope=col>EW_Ha_SF</th><th scope=col>EW_Ha_SF_Error</th><th scope=col>M_r_SF</th><th scope=col>Ha_obs_SF</th><th scope=col>Ha_obs_SF_Error</th><th scope=col>Hb_obs_SF</th><th scope=col>Hb_obs_SF_Error</th><th scope=col>z_SF</th><th scope=col>logmstar_SF</th></tr>\n",
       "\t<tr><th></th><th scope=col>&lt;dbl&gt;</th><th scope=col>&lt;dbl&gt;</th><th scope=col>&lt;dbl&gt;</th><th scope=col>&lt;dbl&gt;</th><th scope=col>&lt;dbl&gt;</th><th scope=col>&lt;dbl&gt;</th><th scope=col>&lt;dbl&gt;</th><th scope=col>&lt;dbl&gt;</th><th scope=col>&lt;dbl&gt;</th></tr>\n",
       "</thead>\n",
       "<tbody>\n",
       "\t<tr><th scope=row>1</th><td>9.057851e+13</td><td>1.089799e+31</td><td>-18.48071</td><td> 97.34119</td><td>2649.81350</td><td> 34.35812</td><td>1309.14440</td><td>0.09163417</td><td> 9.006855</td></tr>\n",
       "\t<tr><th scope=row>2</th><td>2.593569e+01</td><td>1.644405e+00</td><td>-20.72695</td><td>559.72015</td><td>  52.31658</td><td>144.85364</td><td>  39.01183</td><td>0.10659121</td><td> 9.747728</td></tr>\n",
       "\t<tr><th scope=row>3</th><td>9.276756e+01</td><td>          NA</td><td>-20.56854</td><td>300.16248</td><td>  13.63515</td><td> 96.15655</td><td>  15.18527</td><td>0.19481833</td><td> 9.503660</td></tr>\n",
       "\t<tr><th scope=row>4</th><td>3.487242e+01</td><td>          NA</td><td>-20.55494</td><td>113.18153</td><td>  12.87583</td><td> 34.14254</td><td>  10.15529</td><td>0.20957248</td><td> 9.805308</td></tr>\n",
       "\t<tr><th scope=row>5</th><td>3.081700e+01</td><td>2.163126e+00</td><td>-20.64930</td><td>176.51780</td><td>  11.60386</td><td> 38.98763</td><td>  14.45722</td><td>0.17959835</td><td>10.018616</td></tr>\n",
       "</tbody>\n",
       "</table>\n"
      ],
      "text/latex": [
       "A data.frame: 5 × 9\n",
       "\\begin{tabular}{r|lllllllll}\n",
       "  & EW\\_Ha\\_SF & EW\\_Ha\\_SF\\_Error & M\\_r\\_SF & Ha\\_obs\\_SF & Ha\\_obs\\_SF\\_Error & Hb\\_obs\\_SF & Hb\\_obs\\_SF\\_Error & z\\_SF & logmstar\\_SF\\\\\n",
       "  & <dbl> & <dbl> & <dbl> & <dbl> & <dbl> & <dbl> & <dbl> & <dbl> & <dbl>\\\\\n",
       "\\hline\n",
       "\t1 & 9.057851e+13 & 1.089799e+31 & -18.48071 &  97.34119 & 2649.81350 &  34.35812 & 1309.14440 & 0.09163417 &  9.006855\\\\\n",
       "\t2 & 2.593569e+01 & 1.644405e+00 & -20.72695 & 559.72015 &   52.31658 & 144.85364 &   39.01183 & 0.10659121 &  9.747728\\\\\n",
       "\t3 & 9.276756e+01 &           NA & -20.56854 & 300.16248 &   13.63515 &  96.15655 &   15.18527 & 0.19481833 &  9.503660\\\\\n",
       "\t4 & 3.487242e+01 &           NA & -20.55494 & 113.18153 &   12.87583 &  34.14254 &   10.15529 & 0.20957248 &  9.805308\\\\\n",
       "\t5 & 3.081700e+01 & 2.163126e+00 & -20.64930 & 176.51780 &   11.60386 &  38.98763 &   14.45722 & 0.17959835 & 10.018616\\\\\n",
       "\\end{tabular}\n"
      ],
      "text/markdown": [
       "\n",
       "A data.frame: 5 × 9\n",
       "\n",
       "| <!--/--> | EW_Ha_SF &lt;dbl&gt; | EW_Ha_SF_Error &lt;dbl&gt; | M_r_SF &lt;dbl&gt; | Ha_obs_SF &lt;dbl&gt; | Ha_obs_SF_Error &lt;dbl&gt; | Hb_obs_SF &lt;dbl&gt; | Hb_obs_SF_Error &lt;dbl&gt; | z_SF &lt;dbl&gt; | logmstar_SF &lt;dbl&gt; |\n",
       "|---|---|---|---|---|---|---|---|---|---|\n",
       "| 1 | 9.057851e+13 | 1.089799e+31 | -18.48071 |  97.34119 | 2649.81350 |  34.35812 | 1309.14440 | 0.09163417 |  9.006855 |\n",
       "| 2 | 2.593569e+01 | 1.644405e+00 | -20.72695 | 559.72015 |   52.31658 | 144.85364 |   39.01183 | 0.10659121 |  9.747728 |\n",
       "| 3 | 9.276756e+01 |           NA | -20.56854 | 300.16248 |   13.63515 |  96.15655 |   15.18527 | 0.19481833 |  9.503660 |\n",
       "| 4 | 3.487242e+01 |           NA | -20.55494 | 113.18153 |   12.87583 |  34.14254 |   10.15529 | 0.20957248 |  9.805308 |\n",
       "| 5 | 3.081700e+01 | 2.163126e+00 | -20.64930 | 176.51780 |   11.60386 |  38.98763 |   14.45722 | 0.17959835 | 10.018616 |\n",
       "\n"
      ],
      "text/plain": [
       "  EW_Ha_SF     EW_Ha_SF_Error M_r_SF    Ha_obs_SF Ha_obs_SF_Error Hb_obs_SF\n",
       "1 9.057851e+13 1.089799e+31   -18.48071  97.34119 2649.81350       34.35812\n",
       "2 2.593569e+01 1.644405e+00   -20.72695 559.72015   52.31658      144.85364\n",
       "3 9.276756e+01           NA   -20.56854 300.16248   13.63515       96.15655\n",
       "4 3.487242e+01           NA   -20.55494 113.18153   12.87583       34.14254\n",
       "5 3.081700e+01 2.163126e+00   -20.64930 176.51780   11.60386       38.98763\n",
       "  Hb_obs_SF_Error z_SF       logmstar_SF\n",
       "1 1309.14440      0.09163417  9.006855  \n",
       "2   39.01183      0.10659121  9.747728  \n",
       "3   15.18527      0.19481833  9.503660  \n",
       "4   10.15529      0.20957248  9.805308  \n",
       "5   14.45722      0.17959835 10.018616  "
      ]
     },
     "metadata": {},
     "output_type": "display_data"
    },
    {
     "data": {
      "text/html": [
       "13689"
      ],
      "text/latex": [
       "13689"
      ],
      "text/markdown": [
       "13689"
      ],
      "text/plain": [
       "[1] 13689"
      ]
     },
     "metadata": {},
     "output_type": "display_data"
    }
   ],
   "source": [
    "#Visualización data\n",
    "data_BPT[0:5,0:8]\n",
    "length(Ha) #longitud de las galaxias del diagrama BPT\n",
    "\n",
    "data_SF[0:5,0:11]\n",
    "length(Ha_SF) #longitud de las galaxias SF\n",
    "\n",
    "data_SF2[0:5,0:9]\n",
    "length(data_SF2$EW_Ha_SF) # longitud de las galaxias SF (sólo flujos observados en los datos, no corregidos)"
   ]
  },
  {
   "cell_type": "markdown",
   "id": "05530499",
   "metadata": {},
   "source": [
    "## 2. Errors BPT Diagram\n",
    "\n",
    "Calculamos los errores para las galaxias del BPT Diagramas (SF, AGN and Composites)"
   ]
  },
  {
   "cell_type": "markdown",
   "id": "2282eb25",
   "metadata": {},
   "source": [
    "#### x axis error BPT Diagram"
   ]
  },
  {
   "cell_type": "code",
   "execution_count": null,
   "id": "f495fd74",
   "metadata": {},
   "outputs": [],
   "source": [
    "#ERROR PROPAGATE MONTE-CARLO: EJE X DIAGRAMA BPT=0.041994829846394\n",
    "\n",
    "ErrorMet_MC=vector(\"numeric\")\n",
    "\n",
    "EXPR1=expression(log10(NII/Ha))\n",
    "\n",
    "for (i in 1:100){ #length(data_BPT$Ha)\n",
    " \n",
    "    Ha=c(data_BPT$Ha[i],data_BPT$Ha_Error[i])\n",
    "    NII=c(data_BPT$NII[i],data_BPT$NII_Error[i])\n",
    "\n",
    "    DF1=makeDat(EXPR1)\n",
    " \n",
    "    RES2=propagate(expr=EXPR1,data=DF1,type=\"stat\",second.order=FALSE,nsim=10000,do.sim=TRUE)\n",
    "    ErrorMet_MC[i]=ifelse(RES2$sim[2]>0,RES2$sim[2],-9999.0)\n",
    "\n",
    "    #progress_bar(i,100)\n",
    "    #Sys.sleep(0.1)\n",
    "}\n",
    "\n",
    "hist(ErrorMet_MC[ErrorMet_MC>0],xlim=c(0,0.8),breaks='fd',col=\"blue\",main =\"x axis error BPT Diagram\")\n",
    "\n",
    "median(ErrorMet_MC[ErrorMet_MC>0])"
   ]
  },
  {
   "cell_type": "markdown",
   "id": "07ccf8a2",
   "metadata": {},
   "source": [
    "#### y axis error BPT Diagram"
   ]
  },
  {
   "cell_type": "code",
   "execution_count": null,
   "id": "b5f7ee11",
   "metadata": {},
   "outputs": [],
   "source": [
    "#ERROR PROPAGATE MONTE-CARLO: EJE Y DIAGRAMA BPT=0.0610989829348798\n",
    "\n",
    "ErrorMet_MC=vector(\"numeric\")\n",
    "\n",
    "EXPR1=expression(log10(OIII/Hb))\n",
    "\n",
    "for (i in 1:100){ #length(data_BPT$Ha)\n",
    " \n",
    "    Hb=c(data_BPT$Hb[i],data_BPT$Hb_Error[i])\n",
    "    OIII=c(data_BPT$OIII[i],data_BPT$OIII_Error[i])\n",
    "\n",
    "    DF1=makeDat(EXPR1)\n",
    " \n",
    "    RES2=propagate(expr=EXPR1,data=DF1,type=\"stat\",second.order=FALSE,nsim=10000,do.sim=TRUE)\n",
    "    ErrorMet_MC[i]=ifelse(RES2$sim[2]>0,RES2$sim[2],-9999.0)\n",
    "\n",
    "    #progress_bar(i,100)\n",
    "    #Sys.sleep(0.1)\n",
    "}\n",
    "\n",
    "hist(ErrorMet_MC[ErrorMet_MC>0],xlim=c(0,0.8),breaks='fd',col=\"blue\",main =\"y axis error BPT Diagram\")\n",
    "\n",
    "median(ErrorMet_MC[ErrorMet_MC>0])"
   ]
  },
  {
   "cell_type": "markdown",
   "id": "c8d869fc",
   "metadata": {},
   "source": [
    "## 3. Errors SF Galaxies of the BPT Diagram\n",
    "\n",
    "Sólo calculamos los erros para las SF galaxies."
   ]
  },
  {
   "cell_type": "markdown",
   "id": "6167ed8c",
   "metadata": {},
   "source": [
    "#### x axis error SF Galaxies of the BPT Diagram"
   ]
  },
  {
   "cell_type": "code",
   "execution_count": null,
   "id": "b8d49b95",
   "metadata": {},
   "outputs": [],
   "source": [
    "#ERROR PROPAGATE MONTE-CARLO: EJE X DIAGRAMA BPT_SF=0.0438891557655868\n",
    "\n",
    "ErrorMet_MC=vector(\"numeric\")\n",
    "\n",
    "EXPR1=expression(log10(NII_SF/Ha_SF))\n",
    "\n",
    "for (i in 1:100){ #length(data_SF$Ha)\n",
    " \n",
    "    Ha_SF=c(data_SF$Ha[i],data_SF$Ha_Error[i])\n",
    "    NII_SF=c(data_SF$NII[i],data_SF$NII_Error[i])\n",
    "\n",
    "    DF1=makeDat(EXPR1)\n",
    " \n",
    "    RES2=propagate(expr=EXPR1,data=DF1,type=\"stat\",second.order=FALSE,nsim=10000,do.sim=TRUE)\n",
    "    ErrorMet_MC[i]=ifelse(RES2$sim[2]>0,RES2$sim[2],-9999.0)\n",
    "\n",
    "    #progress_bar(i,100)\n",
    "    #Sys.sleep(0.1)\n",
    "}\n",
    "\n",
    "hist(ErrorMet_MC[ErrorMet_MC>0],xlim=c(0,0.8),breaks=40,col=\"blue\",main = \"x axis error SF Galaxies of the BPT Diagram\")\n",
    "\n",
    "median(ErrorMet_MC[ErrorMet_MC>0])"
   ]
  },
  {
   "cell_type": "markdown",
   "id": "449dd576",
   "metadata": {},
   "source": [
    "#### y axis error SF Galaxies of the BPT Diagram"
   ]
  },
  {
   "cell_type": "code",
   "execution_count": null,
   "id": "c46e9ec1",
   "metadata": {},
   "outputs": [],
   "source": [
    "#ERROR PROPAGATE MONTE-CARLO: EJE Y DIAGRAMA BPT_SF=0.0606435178760599\n",
    "\n",
    "ErrorMet_MC=vector(\"numeric\")\n",
    "\n",
    "EXPR1=expression(log10(OIII_SF/Hb_SF))\n",
    "\n",
    "for (i in 1:50){ #length(data_SF$Ha)\n",
    " \n",
    "    Hb_SF=c(data_SF$Hb[i],data_SF$Hb_Error[i])\n",
    "    OIII_SF=c(data_SF$OIII[i],data_SF$OIII_Error[i])\n",
    "\n",
    "    DF1=makeDat(EXPR1)\n",
    " \n",
    "    RES2=propagate(expr=EXPR1,data=DF1,type=\"stat\",second.order=FALSE,nsim=10000,do.sim=TRUE)\n",
    "    ErrorMet_MC[i]=ifelse(RES2$sim[2]>0,RES2$sim[2],-9999.0)\n",
    "\n",
    "    #progress_bar(i,50)\n",
    "    #Sys.sleep(0.1)\n",
    "}\n",
    "\n",
    "hist(ErrorMet_MC[ErrorMet_MC>0],xlim=c(0,0.8),breaks='fd',col=\"blue\",main =\"y axis error SF Galaxies of the BPT Diagram\")\n",
    "\n",
    "median(ErrorMet_MC[ErrorMet_MC>0])"
   ]
  },
  {
   "cell_type": "markdown",
   "id": "5daadfa5",
   "metadata": {},
   "source": [
    "## 4. Errors Metallicities \n",
    "\n",
    "Nótese que sólo calculamos los errores para galaxias SF ya que son para las cuales se ha estimado la metalicidad. "
   ]
  },
  {
   "cell_type": "markdown",
   "id": "9b75fa6a",
   "metadata": {},
   "source": [
    "#### x axis error M-Z Relation"
   ]
  },
  {
   "cell_type": "code",
   "execution_count": 5,
   "id": "3d07ee23",
   "metadata": {},
   "outputs": [
    {
     "data": {
      "text/html": [
       "0.122691974"
      ],
      "text/latex": [
       "0.122691974"
      ],
      "text/markdown": [
       "0.122691974"
      ],
      "text/plain": [
       "[1] 0.122692"
      ]
     },
     "metadata": {},
     "output_type": "display_data"
    }
   ],
   "source": [
    "#ERROR PROPAGATE MONTE-CARLO: EJE Y METALICIDADES=median(dellogmstar_SF)\n",
    "0.122691974"
   ]
  },
  {
   "cell_type": "markdown",
   "id": "2ad4f9d9",
   "metadata": {},
   "source": [
    "#### y axis error M-Z Relation"
   ]
  },
  {
   "cell_type": "code",
   "execution_count": 13,
   "id": "a1e1be6e",
   "metadata": {},
   "outputs": [
    {
     "data": {
      "text/html": [
       "<strong>png:</strong> 2"
      ],
      "text/latex": [
       "\\textbf{png:} 2"
      ],
      "text/markdown": [
       "**png:** 2"
      ],
      "text/plain": [
       "png \n",
       "  2 "
      ]
     },
     "metadata": {},
     "output_type": "display_data"
    }
   ],
   "source": [
    "#ERROR PROPAGATE MONTE-CARLO: EJE Y METALICIDADES=0.0253745430738713\n",
    "#pdf(\"Images/propagate_distribution.pdf\")\n",
    "\n",
    "ErrorMet_MC=vector(\"numeric\")\n",
    "\n",
    "EXPR1=expression(8.73-0.32*log10((OIII_SF/Hb_SF)/(NII_SF/Ha_SF)))\n",
    "\n",
    "for (i in 1:length(data_SF$Ha)){ #length(data_SF$Ha)\n",
    "\n",
    "    Ha_SF=c(data_SF$Ha[i],data_SF$Ha_Error[i])\n",
    "    Hb_SF=c(data_SF$Hb[i],data_SF$Hb_Error[i])\n",
    "    OIII_SF=c(data_SF$OIII[i],data_SF$OIII_Error[i])\n",
    "    NII_SF=c(data_SF$NII[i],data_SF$NII_Error[i])\n",
    "\n",
    "    DF1=makeDat(EXPR1)\n",
    " \n",
    "    RES2=propagate(expr=EXPR1,data=DF1,type=\"stat\",second.order=FALSE,nsim=10000,do.sim=TRUE)\n",
    "    ErrorMet_MC[i]=ifelse(RES2$sim[2]>0,RES2$sim[2],-9999.0)\n",
    "\n",
    "    #progress_bar(i,100)\n",
    "    #Sys.sleep(0.1)\n",
    "}\n",
    "\n",
    "# Calcula la mediana\n",
    "mediana <- median(ErrorMet_MC[ErrorMet_MC > 0])\n",
    "\n",
    "# Crea el histograma\n",
    "hist(ErrorMet_MC[ErrorMet_MC > 0],\n",
    "     breaks = 'fd',\n",
    "     col = \"blue\",\n",
    "     main = \"Propagate error distribution for Z\",\n",
    "     xlab = 'Uncertainties in Z')\n",
    "\n",
    "# Agrega la línea discontinua para la mediana\n",
    "abline(v = mediana, col = \"black\", lty = 2, lwd = 3)\n",
    "\n",
    "# Agrega la leyenda\n",
    "legend(\"topright\", \n",
    "       legend = c(\"Median\"),\n",
    "       col = c(\"black\"),\n",
    "       lty = c(2),\n",
    "       lwd = c(3),\n",
    "       bty = \"n\")\n",
    "\n",
    "#dev.off()"
   ]
  },
  {
   "cell_type": "markdown",
   "id": "445386ca",
   "metadata": {
    "editable": true,
    "slideshow": {
     "slide_type": ""
    },
    "tags": []
   },
   "source": [
    "## 5. Errors SFRs\n",
    "\n",
    "Nótese que sólo calculamos los errores para galaxias SF ya que son para las cuales se ha estimado la SFR. "
   ]
  },
  {
   "cell_type": "markdown",
   "id": "94799d7c",
   "metadata": {},
   "source": [
    "#### x axis error M-SFR Relation"
   ]
  },
  {
   "cell_type": "code",
   "execution_count": 6,
   "id": "f6259a1d",
   "metadata": {},
   "outputs": [
    {
     "data": {
      "text/html": [
       "0.122691974"
      ],
      "text/latex": [
       "0.122691974"
      ],
      "text/markdown": [
       "0.122691974"
      ],
      "text/plain": [
       "[1] 0.122692"
      ]
     },
     "metadata": {},
     "output_type": "display_data"
    }
   ],
   "source": [
    "#ERROR PROPAGATE MONTE-CARLO: EJE Y METALICIDADES=median(dellogmstar_SF)\n",
    "0.122691974"
   ]
  },
  {
   "cell_type": "markdown",
   "id": "8e52ee07",
   "metadata": {},
   "source": [
    "#### y axis error M-SFR Relation"
   ]
  },
  {
   "cell_type": "code",
   "execution_count": 6,
   "id": "19754d34",
   "metadata": {},
   "outputs": [
    {
     "name": "stderr",
     "output_type": "stream",
     "text": [
      "propagate: Monte Carlo simulation gave unique repetitive values! Are all derivatives constants?\n",
      "\n",
      "propagate: Monte Carlo simulation gave unique repetitive values! Are all derivatives constants?\n",
      "\n",
      "propagate: Monte Carlo simulation gave unique repetitive values! Are all derivatives constants?\n",
      "\n",
      "propagate: Monte Carlo simulation gave unique repetitive values! Are all derivatives constants?\n",
      "\n",
      "propagate: Monte Carlo simulation gave unique repetitive values! Are all derivatives constants?\n",
      "\n",
      "propagate: Monte Carlo simulation gave unique repetitive values! Are all derivatives constants?\n",
      "\n",
      "propagate: Monte Carlo simulation gave unique repetitive values! Are all derivatives constants?\n",
      "\n",
      "propagate: Monte Carlo simulation gave unique repetitive values! Are all derivatives constants?\n",
      "\n",
      "propagate: Monte Carlo simulation gave unique repetitive values! Are all derivatives constants?\n",
      "\n",
      "propagate: Monte Carlo simulation gave unique repetitive values! Are all derivatives constants?\n",
      "\n",
      "propagate: Monte Carlo simulation gave unique repetitive values! Are all derivatives constants?\n",
      "\n",
      "propagate: Monte Carlo simulation gave unique repetitive values! Are all derivatives constants?\n",
      "\n",
      "propagate: Monte Carlo simulation gave unique repetitive values! Are all derivatives constants?\n",
      "\n",
      "propagate: Monte Carlo simulation gave unique repetitive values! Are all derivatives constants?\n",
      "\n",
      "propagate: Monte Carlo simulation gave unique repetitive values! Are all derivatives constants?\n",
      "\n",
      "propagate: Monte Carlo simulation gave unique repetitive values! Are all derivatives constants?\n",
      "\n",
      "propagate: Monte Carlo simulation gave unique repetitive values! Are all derivatives constants?\n",
      "\n",
      "propagate: Monte Carlo simulation gave unique repetitive values! Are all derivatives constants?\n",
      "\n",
      "propagate: Monte Carlo simulation gave unique repetitive values! Are all derivatives constants?\n",
      "\n",
      "propagate: Monte Carlo simulation gave unique repetitive values! Are all derivatives constants?\n",
      "\n",
      "propagate: Monte Carlo simulation gave unique repetitive values! Are all derivatives constants?\n",
      "\n",
      "propagate: Monte Carlo simulation gave unique repetitive values! Are all derivatives constants?\n",
      "\n",
      "propagate: Monte Carlo simulation gave unique repetitive values! Are all derivatives constants?\n",
      "\n",
      "propagate: Monte Carlo simulation gave unique repetitive values! Are all derivatives constants?\n",
      "\n",
      "propagate: Monte Carlo simulation gave unique repetitive values! Are all derivatives constants?\n",
      "\n",
      "propagate: Monte Carlo simulation gave unique repetitive values! Are all derivatives constants?\n",
      "\n",
      "propagate: Monte Carlo simulation gave unique repetitive values! Are all derivatives constants?\n",
      "\n",
      "propagate: Monte Carlo simulation gave unique repetitive values! Are all derivatives constants?\n",
      "\n",
      "propagate: Monte Carlo simulation gave unique repetitive values! Are all derivatives constants?\n",
      "\n",
      "propagate: Monte Carlo simulation gave unique repetitive values! Are all derivatives constants?\n",
      "\n",
      "propagate: Monte Carlo simulation gave unique repetitive values! Are all derivatives constants?\n",
      "\n",
      "propagate: Monte Carlo simulation gave unique repetitive values! Are all derivatives constants?\n",
      "\n",
      "propagate: Monte Carlo simulation gave unique repetitive values! Are all derivatives constants?\n",
      "\n",
      "propagate: Monte Carlo simulation gave unique repetitive values! Are all derivatives constants?\n",
      "\n",
      "propagate: Monte Carlo simulation gave unique repetitive values! Are all derivatives constants?\n",
      "\n",
      "propagate: Monte Carlo simulation gave unique repetitive values! Are all derivatives constants?\n",
      "\n",
      "propagate: Monte Carlo simulation gave unique repetitive values! Are all derivatives constants?\n",
      "\n",
      "propagate: Monte Carlo simulation gave unique repetitive values! Are all derivatives constants?\n",
      "\n",
      "propagate: Monte Carlo simulation gave unique repetitive values! Are all derivatives constants?\n",
      "\n",
      "propagate: Monte Carlo simulation gave unique repetitive values! Are all derivatives constants?\n",
      "\n",
      "propagate: Monte Carlo simulation gave unique repetitive values! Are all derivatives constants?\n",
      "\n",
      "propagate: Monte Carlo simulation gave unique repetitive values! Are all derivatives constants?\n",
      "\n",
      "propagate: Monte Carlo simulation gave unique repetitive values! Are all derivatives constants?\n",
      "\n",
      "propagate: Monte Carlo simulation gave unique repetitive values! Are all derivatives constants?\n",
      "\n",
      "propagate: Monte Carlo simulation gave unique repetitive values! Are all derivatives constants?\n",
      "\n",
      "propagate: Monte Carlo simulation gave unique repetitive values! Are all derivatives constants?\n",
      "\n",
      "propagate: Monte Carlo simulation gave unique repetitive values! Are all derivatives constants?\n",
      "\n",
      "propagate: Monte Carlo simulation gave unique repetitive values! Are all derivatives constants?\n",
      "\n",
      "propagate: Monte Carlo simulation gave unique repetitive values! Are all derivatives constants?\n",
      "\n",
      "propagate: Monte Carlo simulation gave unique repetitive values! Are all derivatives constants?\n",
      "\n",
      "propagate: Monte Carlo simulation gave unique repetitive values! Are all derivatives constants?\n",
      "\n",
      "propagate: Monte Carlo simulation gave unique repetitive values! Are all derivatives constants?\n",
      "\n",
      "propagate: Monte Carlo simulation gave unique repetitive values! Are all derivatives constants?\n",
      "\n",
      "propagate: Monte Carlo simulation gave unique repetitive values! Are all derivatives constants?\n",
      "\n",
      "propagate: Monte Carlo simulation gave unique repetitive values! Are all derivatives constants?\n",
      "\n",
      "propagate: Monte Carlo simulation gave unique repetitive values! Are all derivatives constants?\n",
      "\n",
      "propagate: Monte Carlo simulation gave unique repetitive values! Are all derivatives constants?\n",
      "\n",
      "propagate: Monte Carlo simulation gave unique repetitive values! Are all derivatives constants?\n",
      "\n",
      "propagate: Monte Carlo simulation gave unique repetitive values! Are all derivatives constants?\n",
      "\n",
      "propagate: Monte Carlo simulation gave unique repetitive values! Are all derivatives constants?\n",
      "\n",
      "propagate: Monte Carlo simulation gave unique repetitive values! Are all derivatives constants?\n",
      "\n",
      "propagate: Monte Carlo simulation gave unique repetitive values! Are all derivatives constants?\n",
      "\n",
      "propagate: Monte Carlo simulation gave unique repetitive values! Are all derivatives constants?\n",
      "\n",
      "propagate: Monte Carlo simulation gave unique repetitive values! Are all derivatives constants?\n",
      "\n",
      "propagate: Monte Carlo simulation gave unique repetitive values! Are all derivatives constants?\n",
      "\n",
      "propagate: Monte Carlo simulation gave unique repetitive values! Are all derivatives constants?\n",
      "\n",
      "propagate: Monte Carlo simulation gave unique repetitive values! Are all derivatives constants?\n",
      "\n",
      "propagate: Monte Carlo simulation gave unique repetitive values! Are all derivatives constants?\n",
      "\n",
      "propagate: Monte Carlo simulation gave unique repetitive values! Are all derivatives constants?\n",
      "\n",
      "propagate: Monte Carlo simulation gave unique repetitive values! Are all derivatives constants?\n",
      "\n",
      "propagate: Monte Carlo simulation gave unique repetitive values! Are all derivatives constants?\n",
      "\n",
      "propagate: Monte Carlo simulation gave unique repetitive values! Are all derivatives constants?\n",
      "\n",
      "propagate: Monte Carlo simulation gave unique repetitive values! Are all derivatives constants?\n",
      "\n",
      "propagate: Monte Carlo simulation gave unique repetitive values! Are all derivatives constants?\n",
      "\n",
      "propagate: Monte Carlo simulation gave unique repetitive values! Are all derivatives constants?\n",
      "\n",
      "propagate: Monte Carlo simulation gave unique repetitive values! Are all derivatives constants?\n",
      "\n"
     ]
    },
    {
     "data": {
      "text/html": [
       "0.251911981586076"
      ],
      "text/latex": [
       "0.251911981586076"
      ],
      "text/markdown": [
       "0.251911981586076"
      ],
      "text/plain": [
       "[1] 0.251912"
      ]
     },
     "metadata": {},
     "output_type": "display_data"
    },
    {
     "data": {
      "image/png": "[encoded data removed]",
      "text/plain": [
       "Plot with title “y axis error SFR”"
      ]
     },
     "metadata": {
      "image/png": {
       "height": 720,
       "width": 840
      }
     },
     "output_type": "display_data"
    }
   ],
   "source": [
    "#ERROR PROPAGATE MONTE-CARLO: EJE X SFRs=0.0252189442516711\n",
    "\n",
    "ErrorSFR_MC=vector(\"numeric\")\n",
    "\n",
    "EXPR1=expression(log10(((EW_Ha_SF+0) * 10**(-0.4*(M_r_petro_SF-34.10))*(3*10**(18))/(6564.61*(1+z_SF))**2*((Ha_SF/Hb_SF)/2.86)**2.36)/(1.27*10**34)))\n",
    "\n",
    "for (i in 1:length(data_SF$Ha)){ # length(data_SF$Ha)\n",
    "\n",
    "    Ha_SF=c(data_SF2$Ha_obs_SF[i],data_SF2$Ha_obs_SF_Error[i])\n",
    "    Hb_SF=c(data_SF2$Hb_obs_SF[i],data_SF2$Hb_obs_SF_Error[i])\n",
    "    \n",
    "    EW_Ha_SF=c(data_SF2$EW_Ha_SF[i],0) # omiting error: data_SF2$EW_Ha_SF_Error[i]\n",
    "    M_r_petro_SF=c(data_SF$M_r_petro[i],0)\n",
    "    z_SF=c(data_SF$z[i],0)\n",
    "\n",
    "    DF1=makeDat(EXPR1)\n",
    " \n",
    "    RES2=propagate(expr=EXPR1,data=DF1,type=\"stat\",second.order=FALSE,nsim=10000,do.sim=TRUE)\n",
    "    ErrorSFR_MC[i]=ifelse(RES2$sim[2]>0,RES2$sim[2],-9999.0)\n",
    "\n",
    "    #progress_bar(i,length(data_SF$Ha)) # length(data_SF$Ha)\n",
    "    #Sys.sleep(0.1)\n",
    "}\n",
    "\n",
    "hist(ErrorSFR_MC[ErrorSFR_MC>0],breaks='fd',col=\"blue\",main = \"y axis error SFR\")\n",
    "median(ErrorSFR_MC[ErrorSFR_MC>0], na.rm = TRUE)"
   ]
  },
  {
   "cell_type": "markdown",
   "id": "dbbaf510",
   "metadata": {},
   "source": [
    "## 6. Data B: Fils, Tendrils and Voids\n",
    "\n"
   ]
  },
  {
   "cell_type": "code",
   "execution_count": 7,
   "id": "6d3be2d4",
   "metadata": {},
   "outputs": [
    {
     "data": {
      "text/html": [
       "<table class=\"dataframe\">\n",
       "<caption>A data.frame: 5 × 11</caption>\n",
       "<thead>\n",
       "\t<tr><th></th><th scope=col>Ha</th><th scope=col>Ha_Error</th><th scope=col>Hb</th><th scope=col>Hb_Error</th><th scope=col>NII</th><th scope=col>NII_Error</th><th scope=col>OIII</th><th scope=col>OIII_Error</th><th scope=col>EW_Ha</th><th scope=col>M_r_petro</th><th scope=col>z</th></tr>\n",
       "\t<tr><th></th><th scope=col>&lt;dbl&gt;</th><th scope=col>&lt;dbl&gt;</th><th scope=col>&lt;dbl&gt;</th><th scope=col>&lt;dbl&gt;</th><th scope=col>&lt;dbl&gt;</th><th scope=col>&lt;dbl&gt;</th><th scope=col>&lt;dbl&gt;</th><th scope=col>&lt;dbl&gt;</th><th scope=col>&lt;dbl&gt;</th><th scope=col>&lt;dbl&gt;</th><th scope=col>&lt;dbl&gt;</th></tr>\n",
       "</thead>\n",
       "<tbody>\n",
       "\t<tr><th scope=row>1</th><td> 918.1491</td><td> 91.864128</td><td> 320.68293</td><td>38.23389</td><td> 245.92322</td><td>26.895393</td><td> 195.99964</td><td>27.177841</td><td> 53.20128</td><td>-18.48071</td><td>0.196488</td></tr>\n",
       "\t<tr><th scope=row>2</th><td> 211.6135</td><td> 28.945866</td><td>  84.99964</td><td>36.69710</td><td>  81.53038</td><td>18.020811</td><td>  57.56998</td><td>29.229662</td><td> 24.76499</td><td>-20.72695</td><td>0.186815</td></tr>\n",
       "\t<tr><th scope=row>3</th><td> 438.6802</td><td> 50.915630</td><td> 153.18088</td><td>26.27952</td><td> 131.85155</td><td>18.416273</td><td>  73.62870</td><td>15.544444</td><td> 36.69381</td><td>-20.56854</td><td>0.208173</td></tr>\n",
       "\t<tr><th scope=row>4</th><td> 127.1932</td><td>  8.698966</td><td>  84.80415</td><td>13.27375</td><td>  31.38522</td><td> 7.432337</td><td> 110.40400</td><td> 9.586959</td><td> 11.44074</td><td>-20.55494</td><td>0.206995</td></tr>\n",
       "\t<tr><th scope=row>5</th><td>6520.4427</td><td>185.334625</td><td>2274.89555</td><td>69.19073</td><td>2090.16468</td><td>53.508343</td><td>1456.30688</td><td>43.091530</td><td>117.02758</td><td>-20.64930</td><td>0.188566</td></tr>\n",
       "</tbody>\n",
       "</table>\n"
      ],
      "text/latex": [
       "A data.frame: 5 × 11\n",
       "\\begin{tabular}{r|lllllllllll}\n",
       "  & Ha & Ha\\_Error & Hb & Hb\\_Error & NII & NII\\_Error & OIII & OIII\\_Error & EW\\_Ha & M\\_r\\_petro & z\\\\\n",
       "  & <dbl> & <dbl> & <dbl> & <dbl> & <dbl> & <dbl> & <dbl> & <dbl> & <dbl> & <dbl> & <dbl>\\\\\n",
       "\\hline\n",
       "\t1 &  918.1491 &  91.864128 &  320.68293 & 38.23389 &  245.92322 & 26.895393 &  195.99964 & 27.177841 &  53.20128 & -18.48071 & 0.196488\\\\\n",
       "\t2 &  211.6135 &  28.945866 &   84.99964 & 36.69710 &   81.53038 & 18.020811 &   57.56998 & 29.229662 &  24.76499 & -20.72695 & 0.186815\\\\\n",
       "\t3 &  438.6802 &  50.915630 &  153.18088 & 26.27952 &  131.85155 & 18.416273 &   73.62870 & 15.544444 &  36.69381 & -20.56854 & 0.208173\\\\\n",
       "\t4 &  127.1932 &   8.698966 &   84.80415 & 13.27375 &   31.38522 &  7.432337 &  110.40400 &  9.586959 &  11.44074 & -20.55494 & 0.206995\\\\\n",
       "\t5 & 6520.4427 & 185.334625 & 2274.89555 & 69.19073 & 2090.16468 & 53.508343 & 1456.30688 & 43.091530 & 117.02758 & -20.64930 & 0.188566\\\\\n",
       "\\end{tabular}\n"
      ],
      "text/markdown": [
       "\n",
       "A data.frame: 5 × 11\n",
       "\n",
       "| <!--/--> | Ha &lt;dbl&gt; | Ha_Error &lt;dbl&gt; | Hb &lt;dbl&gt; | Hb_Error &lt;dbl&gt; | NII &lt;dbl&gt; | NII_Error &lt;dbl&gt; | OIII &lt;dbl&gt; | OIII_Error &lt;dbl&gt; | EW_Ha &lt;dbl&gt; | M_r_petro &lt;dbl&gt; | z &lt;dbl&gt; |\n",
       "|---|---|---|---|---|---|---|---|---|---|---|---|\n",
       "| 1 |  918.1491 |  91.864128 |  320.68293 | 38.23389 |  245.92322 | 26.895393 |  195.99964 | 27.177841 |  53.20128 | -18.48071 | 0.196488 |\n",
       "| 2 |  211.6135 |  28.945866 |   84.99964 | 36.69710 |   81.53038 | 18.020811 |   57.56998 | 29.229662 |  24.76499 | -20.72695 | 0.186815 |\n",
       "| 3 |  438.6802 |  50.915630 |  153.18088 | 26.27952 |  131.85155 | 18.416273 |   73.62870 | 15.544444 |  36.69381 | -20.56854 | 0.208173 |\n",
       "| 4 |  127.1932 |   8.698966 |   84.80415 | 13.27375 |   31.38522 |  7.432337 |  110.40400 |  9.586959 |  11.44074 | -20.55494 | 0.206995 |\n",
       "| 5 | 6520.4427 | 185.334625 | 2274.89555 | 69.19073 | 2090.16468 | 53.508343 | 1456.30688 | 43.091530 | 117.02758 | -20.64930 | 0.188566 |\n",
       "\n"
      ],
      "text/plain": [
       "  Ha        Ha_Error   Hb         Hb_Error NII        NII_Error OIII      \n",
       "1  918.1491  91.864128  320.68293 38.23389  245.92322 26.895393  195.99964\n",
       "2  211.6135  28.945866   84.99964 36.69710   81.53038 18.020811   57.56998\n",
       "3  438.6802  50.915630  153.18088 26.27952  131.85155 18.416273   73.62870\n",
       "4  127.1932   8.698966   84.80415 13.27375   31.38522  7.432337  110.40400\n",
       "5 6520.4427 185.334625 2274.89555 69.19073 2090.16468 53.508343 1456.30688\n",
       "  OIII_Error EW_Ha     M_r_petro z       \n",
       "1 27.177841   53.20128 -18.48071 0.196488\n",
       "2 29.229662   24.76499 -20.72695 0.186815\n",
       "3 15.544444   36.69381 -20.56854 0.208173\n",
       "4  9.586959   11.44074 -20.55494 0.206995\n",
       "5 43.091530  117.02758 -20.64930 0.188566"
      ]
     },
     "metadata": {},
     "output_type": "display_data"
    },
    {
     "data": {
      "text/html": [
       "258"
      ],
      "text/latex": [
       "258"
      ],
      "text/markdown": [
       "258"
      ],
      "text/plain": [
       "[1] 258"
      ]
     },
     "metadata": {},
     "output_type": "display_data"
    }
   ],
   "source": [
    "#GALAXIAS FILS\n",
    "data_Fils=read.table(\"./DataFrames_and_Tables/data_frame_Fils.txt\") #datos\n",
    "names(data_Fils)=c(\"Ha\",\"Ha_Error\",\"Hb\",\"Hb_Error\",\"NII\",\"NII_Error\",\"OIII\",\"OIII_Error\",\"EW_Ha\",\"M_r_petro\",\"z\") #nombres datos bpt diagram\n",
    "\n",
    "Ha_SF_Fils=data_Fils$Ha #Ha_SF\n",
    "Ha_SF_Error_Fils=data_Fils$Ha_Error #error Ha_SF\n",
    "\n",
    "Hb_SF_Fils=data_Fils$Hb #Hb_SF\n",
    "Hb_SF_Error_Fils=data_Fils$Hb_Error #error Hb_SF\n",
    "\n",
    "NII_SF_Fils=data_Fils$NII #NII_SF\n",
    "NII_SF_Error_Fils=data_Fils$NII_Error #error NII_SF\n",
    "\n",
    "OIII_SF_Fils=data_Fils$OIII #OIII_SF\n",
    "OIII_SF_Error_Fils=data_Fils$OIII_Error #error OIII_SF\n",
    "\n",
    "EW_Ha_SF_Fils=data_Fils$EW_Ha #EW_SF\n",
    "\n",
    "M_r_petro_SF_Fils=data_Fils$M_r_petro #magnitud_r_petrosian_SF\n",
    "z_SF_Fils=data_Fils$z #rdshift_SF\n",
    "\n",
    "data_Fils[0:5,0:11]\n",
    "length(Ha_SF_Fils) #longitud de las galaxias SF"
   ]
  },
  {
   "cell_type": "code",
   "execution_count": 8,
   "id": "1fcafe94",
   "metadata": {},
   "outputs": [
    {
     "data": {
      "text/html": [
       "<table class=\"dataframe\">\n",
       "<caption>A data.frame: 5 × 11</caption>\n",
       "<thead>\n",
       "\t<tr><th></th><th scope=col>Ha</th><th scope=col>Ha_Error</th><th scope=col>Hb</th><th scope=col>Hb_Error</th><th scope=col>NII</th><th scope=col>NII_Error</th><th scope=col>OIII</th><th scope=col>OIII_Error</th><th scope=col>EW_Ha</th><th scope=col>M_r_petro</th><th scope=col>z</th></tr>\n",
       "\t<tr><th></th><th scope=col>&lt;dbl&gt;</th><th scope=col>&lt;dbl&gt;</th><th scope=col>&lt;dbl&gt;</th><th scope=col>&lt;dbl&gt;</th><th scope=col>&lt;dbl&gt;</th><th scope=col>&lt;dbl&gt;</th><th scope=col>&lt;dbl&gt;</th><th scope=col>&lt;dbl&gt;</th><th scope=col>&lt;dbl&gt;</th><th scope=col>&lt;dbl&gt;</th><th scope=col>&lt;dbl&gt;</th></tr>\n",
       "</thead>\n",
       "<tbody>\n",
       "\t<tr><th scope=row>1</th><td>368.7669</td><td>13.63515</td><td> 67.38100</td><td>15.185270</td><td> 56.46208</td><td>23.833967</td><td>345.04029</td><td>15.796330</td><td>92.76756</td><td>-20.56854</td><td>0.194818</td></tr>\n",
       "\t<tr><th scope=row>2</th><td>519.9517</td><td>11.60386</td><td>229.61920</td><td>14.457220</td><td> 95.25224</td><td> 9.480859</td><td>257.99459</td><td>13.578528</td><td>30.81700</td><td>-20.64930</td><td>0.179598</td></tr>\n",
       "\t<tr><th scope=row>3</th><td>282.1876</td><td>20.90209</td><td> 68.04723</td><td>13.186610</td><td> 53.05212</td><td> 9.839131</td><td> 56.88307</td><td> 9.672944</td><td>36.10687</td><td>-20.58587</td><td>0.194144</td></tr>\n",
       "\t<tr><th scope=row>4</th><td>798.7667</td><td>15.76202</td><td> 76.18990</td><td> 6.995211</td><td>341.41348</td><td> 8.238942</td><td>100.40946</td><td> 7.354587</td><td>21.06113</td><td>-21.23829</td><td>0.182238</td></tr>\n",
       "\t<tr><th scope=row>5</th><td>188.3324</td><td>20.22932</td><td>316.47510</td><td>13.970790</td><td> 52.44095</td><td>11.536447</td><td> 32.20980</td><td> 7.304430</td><td>26.08047</td><td>-20.68914</td><td>0.204408</td></tr>\n",
       "</tbody>\n",
       "</table>\n"
      ],
      "text/latex": [
       "A data.frame: 5 × 11\n",
       "\\begin{tabular}{r|lllllllllll}\n",
       "  & Ha & Ha\\_Error & Hb & Hb\\_Error & NII & NII\\_Error & OIII & OIII\\_Error & EW\\_Ha & M\\_r\\_petro & z\\\\\n",
       "  & <dbl> & <dbl> & <dbl> & <dbl> & <dbl> & <dbl> & <dbl> & <dbl> & <dbl> & <dbl> & <dbl>\\\\\n",
       "\\hline\n",
       "\t1 & 368.7669 & 13.63515 &  67.38100 & 15.185270 &  56.46208 & 23.833967 & 345.04029 & 15.796330 & 92.76756 & -20.56854 & 0.194818\\\\\n",
       "\t2 & 519.9517 & 11.60386 & 229.61920 & 14.457220 &  95.25224 &  9.480859 & 257.99459 & 13.578528 & 30.81700 & -20.64930 & 0.179598\\\\\n",
       "\t3 & 282.1876 & 20.90209 &  68.04723 & 13.186610 &  53.05212 &  9.839131 &  56.88307 &  9.672944 & 36.10687 & -20.58587 & 0.194144\\\\\n",
       "\t4 & 798.7667 & 15.76202 &  76.18990 &  6.995211 & 341.41348 &  8.238942 & 100.40946 &  7.354587 & 21.06113 & -21.23829 & 0.182238\\\\\n",
       "\t5 & 188.3324 & 20.22932 & 316.47510 & 13.970790 &  52.44095 & 11.536447 &  32.20980 &  7.304430 & 26.08047 & -20.68914 & 0.204408\\\\\n",
       "\\end{tabular}\n"
      ],
      "text/markdown": [
       "\n",
       "A data.frame: 5 × 11\n",
       "\n",
       "| <!--/--> | Ha &lt;dbl&gt; | Ha_Error &lt;dbl&gt; | Hb &lt;dbl&gt; | Hb_Error &lt;dbl&gt; | NII &lt;dbl&gt; | NII_Error &lt;dbl&gt; | OIII &lt;dbl&gt; | OIII_Error &lt;dbl&gt; | EW_Ha &lt;dbl&gt; | M_r_petro &lt;dbl&gt; | z &lt;dbl&gt; |\n",
       "|---|---|---|---|---|---|---|---|---|---|---|---|\n",
       "| 1 | 368.7669 | 13.63515 |  67.38100 | 15.185270 |  56.46208 | 23.833967 | 345.04029 | 15.796330 | 92.76756 | -20.56854 | 0.194818 |\n",
       "| 2 | 519.9517 | 11.60386 | 229.61920 | 14.457220 |  95.25224 |  9.480859 | 257.99459 | 13.578528 | 30.81700 | -20.64930 | 0.179598 |\n",
       "| 3 | 282.1876 | 20.90209 |  68.04723 | 13.186610 |  53.05212 |  9.839131 |  56.88307 |  9.672944 | 36.10687 | -20.58587 | 0.194144 |\n",
       "| 4 | 798.7667 | 15.76202 |  76.18990 |  6.995211 | 341.41348 |  8.238942 | 100.40946 |  7.354587 | 21.06113 | -21.23829 | 0.182238 |\n",
       "| 5 | 188.3324 | 20.22932 | 316.47510 | 13.970790 |  52.44095 | 11.536447 |  32.20980 |  7.304430 | 26.08047 | -20.68914 | 0.204408 |\n",
       "\n"
      ],
      "text/plain": [
       "  Ha       Ha_Error Hb        Hb_Error  NII       NII_Error OIII     \n",
       "1 368.7669 13.63515  67.38100 15.185270  56.46208 23.833967 345.04029\n",
       "2 519.9517 11.60386 229.61920 14.457220  95.25224  9.480859 257.99459\n",
       "3 282.1876 20.90209  68.04723 13.186610  53.05212  9.839131  56.88307\n",
       "4 798.7667 15.76202  76.18990  6.995211 341.41348  8.238942 100.40946\n",
       "5 188.3324 20.22932 316.47510 13.970790  52.44095 11.536447  32.20980\n",
       "  OIII_Error EW_Ha    M_r_petro z       \n",
       "1 15.796330  92.76756 -20.56854 0.194818\n",
       "2 13.578528  30.81700 -20.64930 0.179598\n",
       "3  9.672944  36.10687 -20.58587 0.194144\n",
       "4  7.354587  21.06113 -21.23829 0.182238\n",
       "5  7.304430  26.08047 -20.68914 0.204408"
      ]
     },
     "metadata": {},
     "output_type": "display_data"
    },
    {
     "data": {
      "text/html": [
       "1498"
      ],
      "text/latex": [
       "1498"
      ],
      "text/markdown": [
       "1498"
      ],
      "text/plain": [
       "[1] 1498"
      ]
     },
     "metadata": {},
     "output_type": "display_data"
    }
   ],
   "source": [
    "#GALAXIAS TENDRILS\n",
    "data_Tendril=read.table(\"./DataFrames_and_Tables/data_frame_Tendril.txt\") #datos\n",
    "names(data_Tendril)=c(\"Ha\",\"Ha_Error\",\"Hb\",\"Hb_Error\",\"NII\",\"NII_Error\",\"OIII\",\"OIII_Error\",\"EW_Ha\",\"M_r_petro\",\"z\") #nombres datos bpt diagram\n",
    "\n",
    "Ha_SF_Tendril=data_Tendril$Ha #Ha_SF\n",
    "Ha_SF_Error_Tendril=data_Tendril$Ha_Error #error Ha_SF\n",
    "\n",
    "Hb_SF_Tendril=data_Tendril$Hb #Hb_SF\n",
    "Hb_SF_Error_Tendril=data_Tendril$Hb_Error #error Hb_SF\n",
    "\n",
    "NII_SF_Tendril=data_Tendril$NII #NII_SF\n",
    "NII_SF_Error_Tendril=data_Tendril$NII_Error #error NII_SF\n",
    "\n",
    "OIII_SF_Tendril=data_Tendril$OIII #OIII_SF\n",
    "OIII_SF_Error_Tendril=data_Tendril$OIII_Error #error OIII_SF\n",
    "\n",
    "EW_Ha_SF_Tendril=data_Tendril$EW_Ha #EW_SF\n",
    "\n",
    "M_r_petro_SF_Tendril=data_Tendril$M_r_petro #magnitud_r_petrosian_SF\n",
    "z_SF_Tendril=data_Tendril$z #rdshift_SF\n",
    "\n",
    "data_Tendril[0:5,0:11]\n",
    "length(Ha_SF_Tendril) #longitud de las galaxias SF"
   ]
  },
  {
   "cell_type": "code",
   "execution_count": 9,
   "id": "a752ffbd",
   "metadata": {},
   "outputs": [
    {
     "data": {
      "text/html": [
       "<table class=\"dataframe\">\n",
       "<caption>A data.frame: 5 × 11</caption>\n",
       "<thead>\n",
       "\t<tr><th></th><th scope=col>Ha</th><th scope=col>Ha_Error</th><th scope=col>Hb</th><th scope=col>Hb_Error</th><th scope=col>NII</th><th scope=col>NII_Error</th><th scope=col>OIII</th><th scope=col>OIII_Error</th><th scope=col>EW_Ha</th><th scope=col>M_r_petro</th><th scope=col>z</th></tr>\n",
       "\t<tr><th></th><th scope=col>&lt;dbl&gt;</th><th scope=col>&lt;dbl&gt;</th><th scope=col>&lt;dbl&gt;</th><th scope=col>&lt;dbl&gt;</th><th scope=col>&lt;dbl&gt;</th><th scope=col>&lt;dbl&gt;</th><th scope=col>&lt;dbl&gt;</th><th scope=col>&lt;dbl&gt;</th><th scope=col>&lt;dbl&gt;</th><th scope=col>&lt;dbl&gt;</th><th scope=col>&lt;dbl&gt;</th></tr>\n",
       "</thead>\n",
       "<tbody>\n",
       "\t<tr><th scope=row>1</th><td>192.8170</td><td> 4.617549</td><td> 67.38100</td><td> 5.955303</td><td> 69.34403</td><td> 3.990823</td><td> 26.35820</td><td> 3.574476</td><td>43.14306</td><td>-20.64796</td><td>0.212288</td></tr>\n",
       "\t<tr><th scope=row>2</th><td>657.2317</td><td>51.109428</td><td>229.61920</td><td>25.781360</td><td>215.04665</td><td>20.439186</td><td>137.97212</td><td>22.680035</td><td>48.77786</td><td>-20.98282</td><td>0.170667</td></tr>\n",
       "\t<tr><th scope=row>3</th><td>194.6713</td><td>23.538254</td><td> 68.04723</td><td>16.600480</td><td> 73.82740</td><td> 9.939935</td><td> 39.33358</td><td>13.917353</td><td>29.48997</td><td>-20.53198</td><td>0.168785</td></tr>\n",
       "\t<tr><th scope=row>4</th><td>189.1108</td><td> 7.730678</td><td> 76.18990</td><td>11.990180</td><td> 52.74416</td><td> 5.516213</td><td> 69.41970</td><td>10.539199</td><td>45.33809</td><td>-21.03748</td><td>0.197891</td></tr>\n",
       "\t<tr><th scope=row>5</th><td>802.7272</td><td>11.935896</td><td>316.47510</td><td>18.764680</td><td>153.13379</td><td> 9.072346</td><td>719.80633</td><td>28.675425</td><td>83.63927</td><td>-20.59800</td><td>0.127225</td></tr>\n",
       "</tbody>\n",
       "</table>\n"
      ],
      "text/latex": [
       "A data.frame: 5 × 11\n",
       "\\begin{tabular}{r|lllllllllll}\n",
       "  & Ha & Ha\\_Error & Hb & Hb\\_Error & NII & NII\\_Error & OIII & OIII\\_Error & EW\\_Ha & M\\_r\\_petro & z\\\\\n",
       "  & <dbl> & <dbl> & <dbl> & <dbl> & <dbl> & <dbl> & <dbl> & <dbl> & <dbl> & <dbl> & <dbl>\\\\\n",
       "\\hline\n",
       "\t1 & 192.8170 &  4.617549 &  67.38100 &  5.955303 &  69.34403 &  3.990823 &  26.35820 &  3.574476 & 43.14306 & -20.64796 & 0.212288\\\\\n",
       "\t2 & 657.2317 & 51.109428 & 229.61920 & 25.781360 & 215.04665 & 20.439186 & 137.97212 & 22.680035 & 48.77786 & -20.98282 & 0.170667\\\\\n",
       "\t3 & 194.6713 & 23.538254 &  68.04723 & 16.600480 &  73.82740 &  9.939935 &  39.33358 & 13.917353 & 29.48997 & -20.53198 & 0.168785\\\\\n",
       "\t4 & 189.1108 &  7.730678 &  76.18990 & 11.990180 &  52.74416 &  5.516213 &  69.41970 & 10.539199 & 45.33809 & -21.03748 & 0.197891\\\\\n",
       "\t5 & 802.7272 & 11.935896 & 316.47510 & 18.764680 & 153.13379 &  9.072346 & 719.80633 & 28.675425 & 83.63927 & -20.59800 & 0.127225\\\\\n",
       "\\end{tabular}\n"
      ],
      "text/markdown": [
       "\n",
       "A data.frame: 5 × 11\n",
       "\n",
       "| <!--/--> | Ha &lt;dbl&gt; | Ha_Error &lt;dbl&gt; | Hb &lt;dbl&gt; | Hb_Error &lt;dbl&gt; | NII &lt;dbl&gt; | NII_Error &lt;dbl&gt; | OIII &lt;dbl&gt; | OIII_Error &lt;dbl&gt; | EW_Ha &lt;dbl&gt; | M_r_petro &lt;dbl&gt; | z &lt;dbl&gt; |\n",
       "|---|---|---|---|---|---|---|---|---|---|---|---|\n",
       "| 1 | 192.8170 |  4.617549 |  67.38100 |  5.955303 |  69.34403 |  3.990823 |  26.35820 |  3.574476 | 43.14306 | -20.64796 | 0.212288 |\n",
       "| 2 | 657.2317 | 51.109428 | 229.61920 | 25.781360 | 215.04665 | 20.439186 | 137.97212 | 22.680035 | 48.77786 | -20.98282 | 0.170667 |\n",
       "| 3 | 194.6713 | 23.538254 |  68.04723 | 16.600480 |  73.82740 |  9.939935 |  39.33358 | 13.917353 | 29.48997 | -20.53198 | 0.168785 |\n",
       "| 4 | 189.1108 |  7.730678 |  76.18990 | 11.990180 |  52.74416 |  5.516213 |  69.41970 | 10.539199 | 45.33809 | -21.03748 | 0.197891 |\n",
       "| 5 | 802.7272 | 11.935896 | 316.47510 | 18.764680 | 153.13379 |  9.072346 | 719.80633 | 28.675425 | 83.63927 | -20.59800 | 0.127225 |\n",
       "\n"
      ],
      "text/plain": [
       "  Ha       Ha_Error  Hb        Hb_Error  NII       NII_Error OIII     \n",
       "1 192.8170  4.617549  67.38100  5.955303  69.34403  3.990823  26.35820\n",
       "2 657.2317 51.109428 229.61920 25.781360 215.04665 20.439186 137.97212\n",
       "3 194.6713 23.538254  68.04723 16.600480  73.82740  9.939935  39.33358\n",
       "4 189.1108  7.730678  76.18990 11.990180  52.74416  5.516213  69.41970\n",
       "5 802.7272 11.935896 316.47510 18.764680 153.13379  9.072346 719.80633\n",
       "  OIII_Error EW_Ha    M_r_petro z       \n",
       "1  3.574476  43.14306 -20.64796 0.212288\n",
       "2 22.680035  48.77786 -20.98282 0.170667\n",
       "3 13.917353  29.48997 -20.53198 0.168785\n",
       "4 10.539199  45.33809 -21.03748 0.197891\n",
       "5 28.675425  83.63927 -20.59800 0.127225"
      ]
     },
     "metadata": {},
     "output_type": "display_data"
    },
    {
     "data": {
      "text/html": [
       "192"
      ],
      "text/latex": [
       "192"
      ],
      "text/markdown": [
       "192"
      ],
      "text/plain": [
       "[1] 192"
      ]
     },
     "metadata": {},
     "output_type": "display_data"
    }
   ],
   "source": [
    "#GALAXIAS VOID\n",
    "data_Voids=read.table(\"./DataFrames_and_Tables/data_frame_Void.txt\") #datos\n",
    "names(data_Voids)=c(\"Ha\",\"Ha_Error\",\"Hb\",\"Hb_Error\",\"NII\",\"NII_Error\",\"OIII\",\"OIII_Error\",\"EW_Ha\",\"M_r_petro\",\"z\") #nombres datos bpt diagram\n",
    "\n",
    "Ha_SF_Void=data_Voids$Ha #Ha_SF\n",
    "Ha_SF_Error_Void=data_Voids$Ha_Error #error Ha_SF\n",
    "\n",
    "Hb_SF_Void=data_Voids$Hb #Hb_SF\n",
    "Hb_SF_Error_Void=data_Voids$Hb_Error #error Hb_SF\n",
    "\n",
    "NII_SF_Void=data_Voids$NII #NII_SF\n",
    "NII_SF_Error_Void=data_Voids$NII_Error #error NII_SF\n",
    "\n",
    "OIII_SF_Void=data_Voids$OIII #OIII_SF\n",
    "OIII_SF_Error_Void=data_Voids$OIII_Error #error OIII_SF\n",
    "\n",
    "EW_Ha_SF_Void=data_Voids$EW_Ha #EW_SF\n",
    "\n",
    "M_r_petro_SF_Void=data_Voids$M_r_petro #magnitud_r_petrosian_SF\n",
    "z_SF_Void=data_Voids$z #rdshift_SF\n",
    "\n",
    "data_Voids[0:5,0:11]\n",
    "length(Ha_SF_Void) #longitud de las galaxias SF"
   ]
  },
  {
   "cell_type": "markdown",
   "id": "a459e9ee",
   "metadata": {},
   "source": [
    "## 7. Errors Metallicities: Fils, Tendrils and Voids\n",
    "\n",
    "Nótese que estamos trabajando con galaxias SF, pues estas las subdividimos en Fils, Tendrils y Voids"
   ]
  },
  {
   "cell_type": "markdown",
   "id": "29a4eed1",
   "metadata": {},
   "source": [
    "### Fils\n",
    "\n",
    "#### x axis error of Fils"
   ]
  },
  {
   "cell_type": "code",
   "execution_count": 10,
   "id": "079ca5d4",
   "metadata": {},
   "outputs": [
    {
     "data": {
      "text/html": [
       "0.11796202"
      ],
      "text/latex": [
       "0.11796202"
      ],
      "text/markdown": [
       "0.11796202"
      ],
      "text/plain": [
       "[1] 0.117962"
      ]
     },
     "metadata": {},
     "output_type": "display_data"
    }
   ],
   "source": [
    "#ERROR PROPAGATE MONTE-CARLO: EJE X METALICIDADES=median(dellogmstar_SF)\n",
    "0.11796202"
   ]
  },
  {
   "cell_type": "markdown",
   "id": "f52312f7",
   "metadata": {},
   "source": [
    "#### y axis error of Fils"
   ]
  },
  {
   "cell_type": "code",
   "execution_count": null,
   "id": "f4ca1c03",
   "metadata": {},
   "outputs": [],
   "source": [
    "#ERROR PROPAGATE MONTE-CARLO: EJE Y METALICIDADES=0.0175045433154089\n",
    "\n",
    "ErrorMet_MC=vector(\"numeric\")\n",
    "\n",
    "EXPR1=expression(8.73-0.32*log10((OIII_SF_Fils/Hb_SF_Fils)/(NII_SF_Fils/Ha_SF_Fils)))\n",
    "\n",
    "for (i in 1:100){ #length(data_Fils$Ha)\n",
    "\n",
    "    Ha_SF_Fils=c(data_Fils$Ha[i],data_Fils$Ha_Error[i])\n",
    "    Hb_SF_Fils=c(data_Fils$Hb[i],data_Fils$Hb_Error[i])\n",
    "    OIII_SF_Fils=c(data_Fils$OIII[i],data_Fils$OIII_Error[i])\n",
    "    NII_SF_Fils=c(data_Fils$NII[i],data_Fils$NII_Error[i])\n",
    "\n",
    "    DF1=makeDat(EXPR1)\n",
    " \n",
    "    RES2=propagate(expr=EXPR1,data=DF1,type=\"stat\",second.order=FALSE,nsim=10000,do.sim=TRUE)\n",
    "    ErrorMet_MC[i]=ifelse(RES2$sim[2]>0,RES2$sim[2],-9999.0)\n",
    "\n",
    "    #progress_bar(i,100)\n",
    "    #Sys.sleep(0.1)\n",
    "}\n",
    "\n",
    "hist(ErrorMet_MC[ErrorMet_MC>0],xlim=c(0,0.25),breaks='fd',col=\"blue\",main = \"y axis error of Fils\")\n",
    "\n",
    "median(ErrorMet_MC[ErrorMet_MC>0])"
   ]
  },
  {
   "cell_type": "markdown",
   "id": "2c9932e0",
   "metadata": {},
   "source": [
    "### Tendrils\n",
    "\n",
    "#### x axis error of Tendrils"
   ]
  },
  {
   "cell_type": "code",
   "execution_count": 11,
   "id": "47faed40",
   "metadata": {},
   "outputs": [
    {
     "data": {
      "text/html": [
       "0.119726494"
      ],
      "text/latex": [
       "0.119726494"
      ],
      "text/markdown": [
       "0.119726494"
      ],
      "text/plain": [
       "[1] 0.1197265"
      ]
     },
     "metadata": {},
     "output_type": "display_data"
    }
   ],
   "source": [
    "#ERROR PROPAGATE MONTE-CARLO: EJE X METALICIDADES=median(dellogmstar_SF)\n",
    "0.119726494"
   ]
  },
  {
   "cell_type": "markdown",
   "id": "3a7b5360",
   "metadata": {},
   "source": [
    "#### y axis error of Tendrils"
   ]
  },
  {
   "cell_type": "code",
   "execution_count": null,
   "id": "dcbcfec0",
   "metadata": {},
   "outputs": [],
   "source": [
    "#ERROR PROPAGATE MONTE-CARLO: EJE Y METALICIDADES=0.0232942981804439\n",
    "\n",
    "ErrorMet_MC=vector(\"numeric\")\n",
    "\n",
    "EXPR1=expression(8.73-0.32*log10((OIII_SF_Tendril/Hb_SF_Tendril)/(NII_SF_Tendril/Ha_SF_Tendril)))\n",
    "\n",
    "for (i in 1:100){ #length(data_Tendril$Ha)\n",
    "\n",
    "    Ha_SF_Tendril=c(data_Tendril$Ha[i],data_Tendril$Ha_Error[i])\n",
    "    Hb_SF_Tendril=c(data_Tendril$Hb[i],data_Tendril$Hb_Error[i])\n",
    "    OIII_SF_Tendril=c(data_Tendril$OIII[i],data_Tendril$OIII_Error[i])\n",
    "    NII_SF_Tendril=c(data_Tendril$NII[i],data_Tendril$NII_Error[i])\n",
    "\n",
    "    DF1=makeDat(EXPR1)\n",
    " \n",
    "    RES2=propagate(expr=EXPR1,data=DF1,type=\"stat\",second.order=FALSE,nsim=10000,do.sim=TRUE)\n",
    "    ErrorMet_MC[i]=ifelse(RES2$sim[2]>0,RES2$sim[2],-9999.0)\n",
    "\n",
    "    #progress_bar(i,100)\n",
    "    #ys.sleep(0.1)\n",
    "}\n",
    "\n",
    "hist(ErrorMet_MC[ErrorMet_MC>0],xlim=c(0,0.25),breaks='fd',col=\"blue\",main = \"y axis error of Tendrils\")\n",
    "\n",
    "median(ErrorMet_MC[ErrorMet_MC>0])"
   ]
  },
  {
   "cell_type": "markdown",
   "id": "da226612",
   "metadata": {},
   "source": [
    "### Voids\n",
    "\n",
    "#### x axis error of Void"
   ]
  },
  {
   "cell_type": "code",
   "execution_count": 12,
   "id": "6d50834d",
   "metadata": {},
   "outputs": [
    {
     "data": {
      "text/html": [
       "0.11887183"
      ],
      "text/latex": [
       "0.11887183"
      ],
      "text/markdown": [
       "0.11887183"
      ],
      "text/plain": [
       "[1] 0.1188718"
      ]
     },
     "metadata": {},
     "output_type": "display_data"
    }
   ],
   "source": [
    "#ERROR PROPAGATE MONTE-CARLO: EJE X METALICIDADES=median(dellogmstar_SF)\n",
    "0.11887183"
   ]
  },
  {
   "cell_type": "markdown",
   "id": "61dac0f0",
   "metadata": {},
   "source": [
    "#### y axis error of Voids"
   ]
  },
  {
   "cell_type": "code",
   "execution_count": null,
   "id": "441e4506",
   "metadata": {},
   "outputs": [],
   "source": [
    "#ERROR PROPAGATE MONTE-CARLO: EJE Y METALICIDADES=0.0248389164321768\n",
    "\n",
    "ErrorMet_MC=vector(\"numeric\")\n",
    "\n",
    "EXPR1=expression(8.73-0.32*log10((OIII_SF_Void/Hb_SF_Void)/(NII_SF_Void/Ha_SF_Void)))\n",
    "\n",
    "for (i in 1:100){ #length(data_Voids$Ha)\n",
    "\n",
    "    Ha_SF_Void=c(data_Voids$Ha[i],data_Voids$Ha_Error[i])\n",
    "    Hb_SF_Void=c(data_Voids$Hb[i],data_Voids$Hb_Error[i])\n",
    "    OIII_SF_Void=c(data_Voids$OIII[i],data_Voids$OIII_Error[i])\n",
    "    NII_SF_Void=c(data_Voids$NII[i],data_Voids$NII_Error[i])\n",
    "\n",
    "    DF1=makeDat(EXPR1)\n",
    " \n",
    "    RES2=propagate(expr=EXPR1,data=DF1,type=\"stat\",second.order=FALSE,nsim=10000,do.sim=TRUE)\n",
    "    ErrorMet_MC[i]=ifelse(RES2$sim[2]>0,RES2$sim[2],-9999.0)\n",
    "\n",
    "    #progress_bar(i,100)\n",
    "    #Sys.sleep(0.1)\n",
    "}\n",
    "\n",
    "hist(ErrorMet_MC[ErrorMet_MC>0],xlim=c(0,0.25),breaks='fd',col=\"blue\",main = \"y axis error of Voids\")\n",
    "\n",
    "median(ErrorMet_MC[ErrorMet_MC>0])"
   ]
  }
 ],
 "metadata": {
  "kernelspec": {
   "display_name": "R",
   "language": "R",
   "name": "ir"
  },
  "language_info": {
   "codemirror_mode": "r",
   "file_extension": ".r",
   "mimetype": "text/x-r-source",
   "name": "R",
   "pygments_lexer": "r",
   "version": "4.4.0"
  }
 },
 "nbformat": 4,
 "nbformat_minor": 5
}
